{
 "cells": [
  {
   "cell_type": "markdown",
   "metadata": {},
   "source": [
    "<H1>My Jupyter Notebook on IBM Watson Studio<H1>"
   ]
  },
  {
   "cell_type": "markdown",
   "metadata": {},
   "source": [
    "<b>**Amir Arsalan Royaee**<b><br>Data Scientist"
   ]
  },
  {
   "cell_type": "markdown",
   "metadata": {},
   "source": [
    "<em>I am interested in data science because I can add value to any business who can use their data well.</em>"
   ]
  },
  {
   "cell_type": "markdown",
   "metadata": {},
   "source": [
    "<H3>The following code will calculate the square root of a Number</H3> "
   ]
  },
  {
   "cell_type": "code",
   "execution_count": 1,
   "metadata": {},
   "outputs": [
    {
     "name": "stdout",
     "output_type": "stream",
     "text": [
      "The square root of 15.000 is 3.873\n"
     ]
    }
   ],
   "source": [
    "num = 15 \n",
    "num_sqrt = num ** 0.5\n",
    "print('The square root of %0.3f is %0.3f'%(num ,num_sqrt))"
   ]
  },
  {
   "cell_type": "markdown",
   "metadata": {},
   "source": [
    "<html>\n",
    "<header>\n",
    "</header>\n",
    "\n",
    "<body>\n",
    "    <section>\n",
    "        <h1> My favourite Libraries</h1>\n",
    "        <ol>\n",
    "            <li>TensorFlow</li>\n",
    "            <li>Scikit-Learn</li>\n",
    "            <li>Numpy</li>\n",
    "            <li>Keras</li>\n",
    "            <li>PyTorch</li>\n",
    "            <li>LightGBM</li>\n",
    "            <li>Eli5</li>\n",
    "            <li>SciPy</li>\n",
    "            <li>Theano</li>\n",
    "            <li>Pandas</li>\n",
    "        </ol>\n",
    "        <hr>\n",
    "        <table border=\"1px\">\n",
    "            <tr>\n",
    "                <td><b>Name</b></td>\n",
    "                <td><b>Number</b></td>\n",
    "            </tr>\n",
    "            <tr>\n",
    "                <td>John</td>\n",
    "                <td>34</td>\n",
    "            </tr>\n",
    "            <tr>\n",
    "                <td>Mary</td>\n",
    "                <td>23</td>\n",
    "            </tr>\n",
    "            <tr>\n",
    "                <td>Ted</td>\n",
    "                <td>28</td>\n",
    "            </tr>\n",
    "            <tr>\n",
    "                <td>Bill</td>\n",
    "                <td>11</td>\n",
    "            </tr>\n",
    "        </table>\n",
    "        <br>\n",
    "        <hr>\n",
    "    </section>\n",
    "    <footer>\n",
    "        <a href=\"https://docs.python.org/3/tutorial/\">Link to Python Learning</a>\n",
    "    </footer>\n",
    "</body>\n",
    "</html>"
   ]
  }
 ],
 "metadata": {
  "kernelspec": {
   "display_name": "Python",
   "language": "python",
   "name": "conda-env-python-py"
  },
  "language_info": {
   "codemirror_mode": {
    "name": "ipython",
    "version": 3
   },
   "file_extension": ".py",
   "mimetype": "text/x-python",
   "name": "python",
   "nbconvert_exporter": "python",
   "pygments_lexer": "ipython3",
   "version": "3.7.12"
  }
 },
 "nbformat": 4,
 "nbformat_minor": 4
}
